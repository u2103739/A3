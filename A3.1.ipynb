{
 "cells": [
  {
   "cell_type": "code",
   "execution_count": 223,
   "id": "7396701f",
   "metadata": {},
   "outputs": [
    {
     "name": "stdout",
     "output_type": "stream",
     "text": [
      "The final piece of paper has the number: 220\n"
     ]
    }
   ],
   "source": [
    "import random\n",
    "\n",
    "def sim_game(total_pieces=2024):\n",
    "    # Initialize the hat with numbers 1 through total_pieces\n",
    "    hat = list(range(1, total_pieces + 1))\n",
    "\n",
    "    # Continue the process until only one piece of paper remains\n",
    "    while len(hat) > 1:\n",
    "        # Randomly select two pieces of paper from the hat\n",
    "        draw = random.sample(hat, 2)\n",
    "        # Calculate the difference between the two numbers\n",
    "        difference = abs(draw[0] - draw[1])\n",
    "\n",
    "        # Remove the drawn pieces from the hat\n",
    "        hat.remove(draw[0])\n",
    "        hat.remove(draw[1])\n",
    "\n",
    "        # Add the new piece with the difference written on it\n",
    "        hat.append(difference)\n",
    "\n",
    "    # Return the number on the final piece of paper\n",
    "    return hat[0]\n",
    "\n",
    "# Simulate the game and print the final number\n",
    "final_number = sim_game()\n",
    "print(f\"The final piece of paper has the number: {final_number}\")"
   ]
  },
  {
   "cell_type": "code",
   "execution_count": null,
   "id": "4b84852c",
   "metadata": {},
   "outputs": [],
   "source": []
  },
  {
   "cell_type": "code",
   "execution_count": null,
   "id": "3f26957c",
   "metadata": {},
   "outputs": [],
   "source": []
  }
 ],
 "metadata": {
  "kernelspec": {
   "display_name": "Python 3 (ipykernel)",
   "language": "python",
   "name": "python3"
  },
  "language_info": {
   "codemirror_mode": {
    "name": "ipython",
    "version": 3
   },
   "file_extension": ".py",
   "mimetype": "text/x-python",
   "name": "python",
   "nbconvert_exporter": "python",
   "pygments_lexer": "ipython3",
   "version": "3.9.7"
  }
 },
 "nbformat": 4,
 "nbformat_minor": 5
}
