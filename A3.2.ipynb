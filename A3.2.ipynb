{
 "cells": [
  {
   "cell_type": "code",
   "execution_count": 14,
   "id": "6112d1c6",
   "metadata": {},
   "outputs": [
    {
     "name": "stdout",
     "output_type": "stream",
     "text": [
      "All possible outcomes: [0, 2, 4]\n"
     ]
    }
   ],
   "source": [
    "def find_all_outcomes(n, outcomes=None, current=None):\n",
    "    if outcomes is None:\n",
    "        outcomes = set()  # Using a set to avoid duplicate outcomes\n",
    "    if current is None:\n",
    "        current = list(range(1, n + 1))\n",
    "    \n",
    "    if len(current) == 1:\n",
    "        outcomes.add(current[0])  # Final outcome for this path\n",
    "        return\n",
    "    \n",
    "    # Try every possible pair of draws\n",
    "    for i in range(len(current)):\n",
    "        for j in range(i + 1, len(current)):\n",
    "            new_current = current.copy()\n",
    "            diff = abs(new_current[i] - new_current[j])\n",
    "            \n",
    "            # Remove the selected numbers and add their difference\n",
    "            new_current.remove(new_current[i])\n",
    "            # Adjust the second index if necessary\n",
    "            if j > i:\n",
    "                j -= 1\n",
    "            new_current.remove(new_current[j])\n",
    "            new_current.append(diff)\n",
    "            \n",
    "            find_all_outcomes(n, outcomes, new_current)\n",
    "    \n",
    "    return outcomes\n",
    "\n",
    "N = 3 #total number of pieces\n",
    "outcomes = find_all_outcomes(4)\n",
    "print(f\"All possible outcomes: {sorted(outcomes)}\")"
   ]
  },
  {
   "cell_type": "code",
   "execution_count": null,
   "id": "b3f1c99a",
   "metadata": {},
   "outputs": [],
   "source": []
  }
 ],
 "metadata": {
  "kernelspec": {
   "display_name": "Python 3 (ipykernel)",
   "language": "python",
   "name": "python3"
  },
  "language_info": {
   "codemirror_mode": {
    "name": "ipython",
    "version": 3
   },
   "file_extension": ".py",
   "mimetype": "text/x-python",
   "name": "python",
   "nbconvert_exporter": "python",
   "pygments_lexer": "ipython3",
   "version": "3.9.7"
  }
 },
 "nbformat": 4,
 "nbformat_minor": 5
}
